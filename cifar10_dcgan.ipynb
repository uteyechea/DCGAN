{
  "nbformat": 4,
  "nbformat_minor": 0,
  "metadata": {
    "accelerator": "GPU",
    "colab": {
      "name": "cifar10-dcgan.ipynb",
      "provenance": [],
      "collapsed_sections": [],
      "toc_visible": true,
      "include_colab_link": true
    },
    "kernelspec": {
      "display_name": "Python 3",
      "name": "python3"
    }
  },
  "cells": [
    {
      "cell_type": "markdown",
      "metadata": {
        "id": "view-in-github",
        "colab_type": "text"
      },
      "source": [
        "<a href=\"https://colab.research.google.com/github/uteyechea/DCGAN-Faces-Generator/blob/main/cifar10_dcgan.ipynb\" target=\"_parent\"><img src=\"https://colab.research.google.com/assets/colab-badge.svg\" alt=\"Open In Colab\"/></a>"
      ]
    },
    {
      "cell_type": "markdown",
      "metadata": {
        "id": "rF2x3qooyBTI"
      },
      "source": [
        "# Deep Convolutional Generative Adversarial Network"
      ]
    },
    {
      "cell_type": "markdown",
      "metadata": {
        "id": "e1_Y75QXJS6h"
      },
      "source": [
        "### Setup"
      ]
    },
    {
      "cell_type": "code",
      "metadata": {
        "id": "WZKbyU2-AiY-"
      },
      "source": [
        "import tensorflow as tf"
      ],
      "execution_count": 1,
      "outputs": []
    },
    {
      "cell_type": "code",
      "metadata": {
        "colab": {
          "base_uri": "https://localhost:8080/"
        },
        "id": "wx-zNbLqB4K8",
        "outputId": "ac8556f8-d5b3-4134-cae4-74f3dd8f01fe"
      },
      "source": [
        "tf.__version__\r\n",
        "\r\n",
        "# Display info about the CPU the notebook is running on\r\n",
        "!apt-get install inxi &> /dev/null\r\n",
        "!inxi -C \r\n",
        "\r\n",
        "# Display info about the GPU the notebook is running on\r\n",
        "!echo -e \"\\e[34mGPU: \\e[39m\"\r\n",
        "!apt-get install clinfo &> /dev/null\r\n",
        "!lspci | grep -i nvidia\r\n",
        "!clinfo | head -n18"
      ],
      "execution_count": 2,
      "outputs": [
        {
          "output_type": "stream",
          "text": [
            "\u001b[1;34mCPU:      \u001b[0;37m \u001b[1;34mSingle core\u001b[0;37m Intel Xeon (-MT-) \u001b[0;37m\u001b[1;34mcache:\u001b[0;37m 56320 KB\u001b[0;37m\n",
            "\u001b[1;34m          \u001b[0;37m \u001b[1;34mclock speeds:\u001b[0;37m \u001b[1;34mmax:\u001b[0;37m 2199 MHz \u001b[1;34m1:\u001b[0;37m 2199 MHz \u001b[1;34m2:\u001b[0;37m 2199 MHz\u001b[0;37m\n",
            "\u001b[0m\u001b[34mGPU: \u001b[39m\n",
            "00:04.0 3D controller: NVIDIA Corporation Device 1eb8 (rev a1)\n",
            "Number of platforms                               1\n",
            "  Platform Name                                   NVIDIA CUDA\n",
            "  Platform Vendor                                 NVIDIA Corporation\n",
            "  Platform Version                                OpenCL 1.2 CUDA 11.2.109\n",
            "  Platform Profile                                FULL_PROFILE\n",
            "  Platform Extensions                             cl_khr_global_int32_base_atomics cl_khr_global_int32_extended_atomics cl_khr_local_int32_base_atomics cl_khr_local_int32_extended_atomics cl_khr_fp64 cl_khr_byte_addressable_store cl_khr_icd cl_nv_compiler_options cl_nv_device_attribute_query cl_nv_pragma_unroll cl_nv_copy_opts cl_nv_create_buffer cl_khr_int64_base_atomics cl_khr_int64_extended_atomics cl_nv_kernel_attribute cl_khr_device_uuid\n",
            "  Platform Extensions function suffix             NV\n",
            "\n",
            "  Platform Name                                   NVIDIA CUDA\n",
            "Number of devices                                 1\n",
            "  Device Name                                     Tesla T4\n",
            "  Device Vendor                                   NVIDIA Corporation\n",
            "  Device Vendor ID                                0x10de\n",
            "  Device Version                                  OpenCL 1.2 CUDA\n",
            "  Driver Version                                  460.32.03\n",
            "  Device OpenCL C Version                         OpenCL C 1.2 \n",
            "  Device Type                                     GPU\n",
            "  Device Topology (NV)                            PCI-E, 00:00.4\n"
          ],
          "name": "stdout"
        }
      ]
    },
    {
      "cell_type": "code",
      "metadata": {
        "colab": {
          "base_uri": "https://localhost:8080/"
        },
        "id": "YzTlj4YdCip_",
        "outputId": "5e313ea6-864a-4fd9-8f00-38b80fe71abd"
      },
      "source": [
        "# To generate GIFs\n",
        "!pip install imageio\n",
        "#!pip install git+https://github.com/tensorflow/docs\n",
        "#!pip install git+https://github.com/tensorflow/docs"
      ],
      "execution_count": 3,
      "outputs": [
        {
          "output_type": "stream",
          "text": [
            "Requirement already satisfied: imageio in /usr/local/lib/python3.7/dist-packages (2.4.1)\n",
            "Requirement already satisfied: numpy in /usr/local/lib/python3.7/dist-packages (from imageio) (1.19.5)\n",
            "Requirement already satisfied: pillow in /usr/local/lib/python3.7/dist-packages (from imageio) (7.0.0)\n"
          ],
          "name": "stdout"
        }
      ]
    },
    {
      "cell_type": "code",
      "metadata": {
        "id": "YfIk2es3hJEd"
      },
      "source": [
        "import glob\n",
        "import imageio\n",
        "import matplotlib.pyplot as plt\n",
        "import numpy as np\n",
        "import os\n",
        "import PIL\n",
        "from tensorflow.keras import layers\n",
        "import time\n",
        "\n",
        "from IPython import display\n",
        "import pathlib"
      ],
      "execution_count": 4,
      "outputs": []
    },
    {
      "cell_type": "markdown",
      "metadata": {
        "id": "C6zvv-ZGzAYi"
      },
      "source": [
        "### Connect Google Drive and explore the dataset\r\n",
        "\r\n"
      ]
    },
    {
      "cell_type": "code",
      "metadata": {
        "colab": {
          "base_uri": "https://localhost:8080/",
          "height": 72
        },
        "id": "oPUJe46zy-wj",
        "outputId": "f2b97e9c-cb17-4809-fe3e-51f9566a626c"
      },
      "source": [
        "\"\"\"\r\n",
        "#Mount my Google Drive \r\n",
        "from google.colab import drive\r\n",
        "drive.mount('/content/drive', force_remount=True)\r\n",
        "\r\n",
        "#Define global path to working directory\r\n",
        "data_dir='/content/drive/MyDrive/Colab Notebooks/DCGAN/'\r\n",
        "#Create pathlib object\r\n",
        "data_dir = pathlib.Path(data_dir)\r\n",
        "\"\"\"\r\n"
      ],
      "execution_count": 5,
      "outputs": [
        {
          "output_type": "execute_result",
          "data": {
            "application/vnd.google.colaboratory.intrinsic+json": {
              "type": "string"
            },
            "text/plain": [
              "\"\\n#Mount my Google Drive \\nfrom google.colab import drive\\ndrive.mount('/content/drive', force_remount=True)\\n\\n#Define global path to working directory\\ndata_dir='/content/drive/MyDrive/Colab Notebooks/DCGAN/'\\n#Create pathlib object\\ndata_dir = pathlib.Path(data_dir)\\n\""
            ]
          },
          "metadata": {
            "tags": []
          },
          "execution_count": 5
        }
      ]
    },
    {
      "cell_type": "markdown",
      "metadata": {
        "id": "iYn4MdZnKCey"
      },
      "source": [
        "### Load and prepare the dataset\n",
        "\n",
        "You will use the CIFAR10 dataset to train the generator and the discriminator. The generator will generate pictures resembling the 10 classes in the data."
      ]
    },
    {
      "cell_type": "code",
      "metadata": {
        "id": "a4fYMGxGhrna",
        "colab": {
          "base_uri": "https://localhost:8080/"
        },
        "outputId": "9c11f3cc-cede-4c70-87ce-8edfcb8fbcb5"
      },
      "source": [
        "(train_images, train_labels), (_, _) = tf.keras.datasets.cifar10.load_data()\r\n",
        "#(train_images, train_labels), (_, _) = tf.keras.datasets.fashion_mnist.load_data() # Fashion accesories kerasdataset\r\n",
        "#(train_images, train_labels), (_, _) = tf.keras.datasets.mnist.load_data() #handwriten digits dataset"
      ],
      "execution_count": 6,
      "outputs": [
        {
          "output_type": "stream",
          "text": [
            "Downloading data from https://www.cs.toronto.edu/~kriz/cifar-10-python.tar.gz\n",
            "170500096/170498071 [==============================] - 2s 0us/step\n"
          ],
          "name": "stdout"
        }
      ]
    },
    {
      "cell_type": "code",
      "metadata": {
        "id": "NFC2ghIdiZYE"
      },
      "source": [
        "train_images = train_images.astype('float32')\n",
        "train_images = (train_images - 127.5) / 127.5 # Normalize the images to [-1, 1]"
      ],
      "execution_count": 7,
      "outputs": []
    },
    {
      "cell_type": "code",
      "metadata": {
        "id": "S4PIDhoDLbsZ"
      },
      "source": [
        "BUFFER_SIZE = train_images.shape[0]\n",
        "IMG_HEIGHT = train_images.shape[1] #Must be a multiple of 4\n",
        "assert IMG_HEIGHT % 4 == 0\n",
        "IMG_WIDTH = train_images.shape[2] #Must be a multiple of 4\n",
        "assert IMG_WIDTH % 4 == 0\n",
        "CHANNELS = train_images.shape[3]\n",
        "BATCH_SIZE = 32\n",
        "MAX_FILTERS = 32\n",
        "\n",
        "IMG_SIZE=IMG_HEIGHT*IMG_WIDTH*CHANNELS"
      ],
      "execution_count": 8,
      "outputs": []
    },
    {
      "cell_type": "code",
      "metadata": {
        "id": "-yKCCQOoJ7cn"
      },
      "source": [
        "# Batch and shuffle the data\n",
        "train_dataset = tf.data.Dataset.from_tensor_slices(train_images).shuffle(BUFFER_SIZE).batch(BATCH_SIZE)"
      ],
      "execution_count": 9,
      "outputs": []
    },
    {
      "cell_type": "markdown",
      "metadata": {
        "id": "j717i9SHseIP"
      },
      "source": [
        "###Visualize a sample from the dataset\r\n"
      ]
    },
    {
      "cell_type": "code",
      "metadata": {
        "colab": {
          "base_uri": "https://localhost:8080/",
          "height": 575
        },
        "id": "A3DpamMvC4j7",
        "outputId": "63f14221-3c40-449c-9a77-0a2b6e99c8cf"
      },
      "source": [
        "plt.figure(figsize=(10, 10))\r\n",
        "for images in train_dataset.take(1): #take(): Creates a Dataset with at most count elements from this dataset.\r\n",
        "  for i in range(16):\r\n",
        "    ax = plt.subplot(4, 4, i + 1)\r\n",
        "    plt.imshow((images[i].numpy()*127.5+127.5).astype('int'))\r\n",
        "    plt.axis(\"off\")"
      ],
      "execution_count": 10,
      "outputs": [
        {
          "output_type": "display_data",
          "data": {
            "image/png": "[encoded data removed]",
            "text/plain": [
              "<Figure size 720x720 with 16 Axes>"
            ]
          },
          "metadata": {
            "tags": [],
            "needs_background": "light"
          }
        }
      ]
    },
    {
      "cell_type": "markdown",
      "metadata": {
        "id": "THY-sZMiQ4UV"
      },
      "source": [
        "## Create the models\n",
        "\n",
        "Both the generator and discriminator are defined using the [Keras Sequential API](https://www.tensorflow.org/guide/keras#sequential_model)."
      ]
    },
    {
      "cell_type": "markdown",
      "metadata": {
        "id": "-tEyxE-GMC48"
      },
      "source": [
        "### The Generator\n",
        "\n",
        "The generator uses `tf.keras.layers.Conv2DTranspose` (upsampling) layers to produce an image from a seed (random noise). Start with a `Dense` layer that takes this seed as input, then upsample several times until you reach the desired image size of 32x32x3. Notice the `tf.keras.layers.LeakyReLU` activation for each layer, except the output layer which uses tanh.\n",
        "\n",
        "Observations:\n",
        "\n",
        "1. Starting from 512 improves resolution, but it does not finish training.\n",
        "\n",
        "2. "
      ]
    },
    {
      "cell_type": "code",
      "metadata": {
        "id": "6bpTcDqoLWjY"
      },
      "source": [
        "def make_generator_model(img_height=IMG_HEIGHT,img_width=IMG_WIDTH,channels=CHANNELS,max_filters=MAX_FILTERS):\n",
        "    \n",
        "\n",
        "    #KERNEL_SIZE=(3,3)\n",
        "    KERNEL_SIZE=(4,4)\n",
        "    #KERNEL_SIZE=(6,6)\n",
        "    #KERNEL_SIZE=(8,8)\n",
        "    #KERNEL_SIZE=(9,9)\n",
        "    FILTERS=max_filters\n",
        "    NEURONS=2*max_filters\n",
        "\n",
        "    model = tf.keras.Sequential()\n",
        "\n",
        "    #model.add(layers.Input(shape=(128,))) #Input: Noise ~ N(0,1)\n",
        "    #model.add(layers.Dense(img_height//8*img_width//8*FILTERS, use_bias=False))\n",
        "    #model.add(layers.BatchNormalization()) \n",
        "    #model.add(layers.ReLU()) \n",
        "    #model.add(layers.Reshape((img_height//8, img_width//8, FILTERS)))\n",
        "    #assert model.output_shape == (None, img_height//8, img_width//8, FILTERS) # Note: None is the batch size\n",
        "\n",
        "    model.add(layers.Input(shape=(img_height//8, img_width//8, FILTERS))) #Input: Noise ~ N(0,1)\n",
        "    #assert model.output_shape == (None, img_height//8, img_width//8, FILTERS) # Note: None is the batch size\n",
        "\n",
        "    model.add(layers.Conv2DTranspose(FILTERS, KERNEL_SIZE, strides=(1, 1), padding='same', use_bias=False))\n",
        "    #assert model.output_shape == (None, img_height//4, img_width//4, FILTERS)\n",
        "    model.add(layers.BatchNormalization())\n",
        "    model.add(layers.LeakyReLU(alpha=0.2))\n",
        "\n",
        "    model.add(layers.Conv2DTranspose(FILTERS, KERNEL_SIZE, strides=(1, 1), padding='same', use_bias=False))\n",
        "    #assert model.output_shape == (None, img_height//4, img_width//4, FILTERS)\n",
        "    model.add(layers.BatchNormalization())\n",
        "    model.add(layers.LeakyReLU(alpha=0.2))\n",
        "\n",
        "    model.add(layers.Conv2DTranspose(FILTERS, KERNEL_SIZE, strides=(2, 2), padding='same', use_bias=False))\n",
        "    #assert model.output_shape == (None, img_height//4, img_width//4, FILTERS)\n",
        "    model.add(layers.BatchNormalization())\n",
        "    model.add(layers.LeakyReLU(alpha=0.2))\n",
        "\n",
        "    model.add(layers.Conv2DTranspose(FILTERS, KERNEL_SIZE, strides=(1, 1), padding='same', use_bias=False))\n",
        "    #assert model.output_shape == (None, img_height//4, img_width//4, FILTERS)\n",
        "    model.add(layers.BatchNormalization())\n",
        "    model.add(layers.LeakyReLU(alpha=0.2))\n",
        "\n",
        "    model.add(layers.Conv2DTranspose(FILTERS//2, KERNEL_SIZE, strides=(2, 2), padding='same', use_bias=False))\n",
        "    #assert model.output_shape == (None, img_height//2, img_width//2, FILTERS//2)\n",
        "    model.add(layers.BatchNormalization())\n",
        "    model.add(layers.LeakyReLU(alpha=0.2))\n",
        "\n",
        "    model.add(layers.Conv2DTranspose(FILTERS//2, KERNEL_SIZE, strides=(1, 1), padding='same', use_bias=False))\n",
        "    #assert model.output_shape == (None, img_height//2, img_width//2, FILTERS//2)\n",
        "    model.add(layers.BatchNormalization())\n",
        "    model.add(layers.LeakyReLU(alpha=0.2))\n",
        "\n",
        "    model.add(layers.Conv2DTranspose(FILTERS//4, KERNEL_SIZE, strides=(2, 2), padding='same', use_bias=False))\n",
        "    #assert model.output_shape == (None, img_height, img_width, FILTERS//4)\n",
        "    model.add(layers.BatchNormalization())\n",
        "    model.add(layers.LeakyReLU(alpha=0.2))\n",
        "\n",
        "    model.add(layers.Conv2DTranspose(FILTERS//4, KERNEL_SIZE, strides=(1, 1), padding='same', use_bias=False))\n",
        "    #assert model.output_shape == (None, img_height, img_width, FILTERS//4)\n",
        "    model.add(layers.BatchNormalization())\n",
        "    model.add(layers.LeakyReLU(alpha=0.2))\n",
        "\n",
        "    #Seems to mess with the system. Output looks ultra-low resolution badly colored image\n",
        "    #model.add(layers.Dense(NEURONS))\n",
        "    #model.add(layers.BatchNormalization())\n",
        "    #model.add(layers.ReLU())\n",
        "    \n",
        "  \n",
        "    model.add(layers.Conv2D(3, (9,9), activation='tanh',padding='same'))\n",
        "    \n",
        "    assert model.output_shape == (None, img_height, img_width, channels)\n",
        "\n",
        "    return model"
      ],
      "execution_count": 11,
      "outputs": []
    },
    {
      "cell_type": "markdown",
      "metadata": {
        "id": "GyWgG09LCSJl"
      },
      "source": [
        "Use the (as yet untrained) generator to create an image."
      ]
    },
    {
      "cell_type": "code",
      "metadata": {
        "colab": {
          "base_uri": "https://localhost:8080/",
          "height": 1000
        },
        "id": "gl7jcC7TdPTG",
        "outputId": "87c8bb63-3d22-4ecb-e7a6-f370fa7710ce"
      },
      "source": [
        "generator = make_generator_model()\n",
        "generator.summary()\n",
        "\n",
        "#noise = tf.random.uniform([1, 128],minval=-1,maxval=1)\n",
        "noise = tf.random.uniform((BATCH_SIZE, IMG_HEIGHT//8, IMG_WIDTH//8, MAX_FILTERS),minval=-1,maxval=1)\n",
        "#noise = tf.random.normal((BATCH_SIZE, IMG_HEIGHT//8, IMG_WIDTH//8, MAX_FILTERS),stddev=0.5)\n",
        "#noise = tf.random.normal((BATCH_SIZE, IMG_HEIGHT//8, IMG_WIDTH//8, MAX_FILTERS))\n",
        "#print(noise.shape)\n",
        "\n",
        "generated_image = generator(noise, training=False)\n",
        "\n",
        "plt.imshow((generated_image[0].numpy()*127.5+127.5).astype('int'))"
      ],
      "execution_count": 12,
      "outputs": [
        {
          "output_type": "stream",
          "text": [
            "Model: \"sequential\"\n",
            "_________________________________________________________________\n",
            "Layer (type)                 Output Shape              Param #   \n",
            "=================================================================\n",
            "conv2d_transpose (Conv2DTran (None, 4, 4, 32)          16384     \n",
            "_________________________________________________________________\n",
            "batch_normalization (BatchNo (None, 4, 4, 32)          128       \n",
            "_________________________________________________________________\n",
            "leaky_re_lu (LeakyReLU)      (None, 4, 4, 32)          0         \n",
            "_________________________________________________________________\n",
            "conv2d_transpose_1 (Conv2DTr (None, 8, 8, 32)          16384     \n",
            "_________________________________________________________________\n",
            "batch_normalization_1 (Batch (None, 8, 8, 32)          128       \n",
            "_________________________________________________________________\n",
            "leaky_re_lu_1 (LeakyReLU)    (None, 8, 8, 32)          0         \n",
            "_________________________________________________________________\n",
            "conv2d_transpose_2 (Conv2DTr (None, 8, 8, 32)          16384     \n",
            "_________________________________________________________________\n",
            "batch_normalization_2 (Batch (None, 8, 8, 32)          128       \n",
            "_________________________________________________________________\n",
            "leaky_re_lu_2 (LeakyReLU)    (None, 8, 8, 32)          0         \n",
            "_________________________________________________________________\n",
            "conv2d_transpose_3 (Conv2DTr (None, 16, 16, 16)        8192      \n",
            "_________________________________________________________________\n",
            "batch_normalization_3 (Batch (None, 16, 16, 16)        64        \n",
            "_________________________________________________________________\n",
            "leaky_re_lu_3 (LeakyReLU)    (None, 16, 16, 16)        0         \n",
            "_________________________________________________________________\n",
            "conv2d_transpose_4 (Conv2DTr (None, 16, 16, 16)        4096      \n",
            "_________________________________________________________________\n",
            "batch_normalization_4 (Batch (None, 16, 16, 16)        64        \n",
            "_________________________________________________________________\n",
            "leaky_re_lu_4 (LeakyReLU)    (None, 16, 16, 16)        0         \n",
            "_________________________________________________________________\n",
            "conv2d_transpose_5 (Conv2DTr (None, 32, 32, 8)         2048      \n",
            "_________________________________________________________________\n",
            "batch_normalization_5 (Batch (None, 32, 32, 8)         32        \n",
            "_________________________________________________________________\n",
            "leaky_re_lu_5 (LeakyReLU)    (None, 32, 32, 8)         0         \n",
            "_________________________________________________________________\n",
            "conv2d_transpose_6 (Conv2DTr (None, 32, 32, 8)         1024      \n",
            "_________________________________________________________________\n",
            "batch_normalization_6 (Batch (None, 32, 32, 8)         32        \n",
            "_________________________________________________________________\n",
            "leaky_re_lu_6 (LeakyReLU)    (None, 32, 32, 8)         0         \n",
            "_________________________________________________________________\n",
            "conv2d (Conv2D)              (None, 32, 32, 3)         1947      \n",
            "=================================================================\n",
            "Total params: 67,035\n",
            "Trainable params: 66,747\n",
            "Non-trainable params: 288\n",
            "_________________________________________________________________\n"
          ],
          "name": "stdout"
        },
        {
          "output_type": "execute_result",
          "data": {
            "text/plain": [
              "<matplotlib.image.AxesImage at 0x7f6b677d4f10>"
            ]
          },
          "metadata": {
            "tags": []
          },
          "execution_count": 12
        },
        {
          "output_type": "display_data",
          "data": {
            "image/png": "[encoded data removed]",
            "text/plain": [
              "<Figure size 432x288 with 1 Axes>"
            ]
          },
          "metadata": {
            "tags": [],
            "needs_background": "light"
          }
        }
      ]
    },
    {
      "cell_type": "markdown",
      "metadata": {
        "id": "D0IKnaCtg6WE"
      },
      "source": [
        "### The Discriminator\n",
        "\n",
        "The discriminator is a CNN-based image classifier.\n",
        "\n",
        "Observations:\n",
        "1. Filters and kernel size follow an inverse proportional relationship. Or remain constant.\n",
        "\n",
        "2. A change in strides does not impact much the generated output.\n",
        "\n",
        "3. Does the number of layers impact performance and output quality? an increase in the number of layers, decreases performance. The output image is better defined, as if it has a better control over the distribution of pixels.\n",
        "\n",
        "4. Does the droput rate increase image quality? (droput rate could correlate with decreased creativity vs increased fidelity.)"
      ]
    },
    {
      "cell_type": "code",
      "metadata": {
        "id": "dw2tPLmk2pEP"
      },
      "source": [
        "def make_discriminator_model(img_height=IMG_HEIGHT, img_width=IMG_WIDTH, channels=CHANNELS,max_filters=MAX_FILTERS):\n",
        "\n",
        "    KERNEL_SIZE = (3,3) #Fast\n",
        "    #KERNEL_SIZE = (4,4) #Better\n",
        "    #KERNEL_SIZE = (6,6) #Better\n",
        "    #KERNEL_SIZE = (8,8) #Best\n",
        "    FILTERS=max_filters\n",
        "    NEURONS=2*max_filters\n",
        "\n",
        "    model = tf.keras.Sequential()\n",
        "\n",
        "    #Normalize input\n",
        "    #model.add(layers.BatchNormalization(input_shape=[img_height, img_width, channels])),\n",
        "\n",
        "    model.add(layers.Input([img_height, img_width, channels]))\n",
        "\n",
        "    model.add(layers.Conv2D(FILTERS//4, KERNEL_SIZE, strides=(1, 1), padding='same', use_bias=False))\n",
        "    model.add(layers.BatchNormalization())\n",
        "    model.add(layers.LeakyReLU(alpha=0.2))\n",
        "\n",
        "    model.add(layers.Conv2D(FILTERS//4, KERNEL_SIZE, strides=(1, 1), padding='same', use_bias=False))\n",
        "    model.add(layers.BatchNormalization())\n",
        "    model.add(layers.LeakyReLU(alpha=0.2))\n",
        "\n",
        "    model.add(layers.Conv2D(FILTERS//2, KERNEL_SIZE, strides=(2, 2), padding='same', use_bias=False))\n",
        "    model.add(layers.BatchNormalization())\n",
        "    model.add(layers.LeakyReLU(alpha=0.2))\n",
        "\n",
        "    model.add(layers.Conv2D(FILTERS//2, KERNEL_SIZE, strides=(1, 1), padding='same', use_bias=False))\n",
        "    model.add(layers.BatchNormalization())\n",
        "    model.add(layers.LeakyReLU(alpha=0.2))\n",
        "\n",
        "    model.add(layers.Conv2D(FILTERS, KERNEL_SIZE, strides=(2, 2), padding='same', use_bias=False))\n",
        "    model.add(layers.BatchNormalization())\n",
        "    model.add(layers.LeakyReLU(alpha=0.2))\n",
        "\n",
        "    model.add(layers.Conv2D(FILTERS, KERNEL_SIZE, strides=(1, 1), padding='same', use_bias=False))\n",
        "    model.add(layers.BatchNormalization())\n",
        "    model.add(layers.LeakyReLU(alpha=0.2))\n",
        "\n",
        "\n",
        "    #model.add(layers.Dense(NEURONS))\n",
        "    #model.add(layers.BatchNormalization())\n",
        "    #model.add(layers.ReLU())\n",
        "\n",
        "    model.add(layers.Flatten())\n",
        "\n",
        "    #Seems to mess with the system. Output looks ultra-low resolution badly colored image\n",
        "    #model.add(layers.Dense(NEURONS))\n",
        "    #model.add(layers.BatchNormalization())\n",
        "    #model.add(layers.ReLU())\n",
        "    \n",
        "    model.add(layers.Dense(1,activation='sigmoid'))\n",
        "\n",
        "    return model"
      ],
      "execution_count": 13,
      "outputs": []
    },
    {
      "cell_type": "markdown",
      "metadata": {
        "id": "QhPneagzCaQv"
      },
      "source": [
        "Use the (as yet untrained) discriminator to classify the generated images as real or fake. The model will be trained to output positive values for real images, and negative values for fake images."
      ]
    },
    {
      "cell_type": "code",
      "metadata": {
        "colab": {
          "base_uri": "https://localhost:8080/"
        },
        "id": "gDkA05NE6QMs",
        "outputId": "4d1949d1-a96d-4524-a5bc-f7e6e04dc27e"
      },
      "source": [
        "discriminator = make_discriminator_model()\n",
        "discriminator.summary()\n",
        "decision = discriminator(generated_image)\n",
        "print('Sample output: ', decision)"
      ],
      "execution_count": 14,
      "outputs": [
        {
          "output_type": "stream",
          "text": [
            "Model: \"sequential_1\"\n",
            "_________________________________________________________________\n",
            "Layer (type)                 Output Shape              Param #   \n",
            "=================================================================\n",
            "conv2d_1 (Conv2D)            (None, 32, 32, 8)         216       \n",
            "_________________________________________________________________\n",
            "batch_normalization_7 (Batch (None, 32, 32, 8)         32        \n",
            "_________________________________________________________________\n",
            "leaky_re_lu_7 (LeakyReLU)    (None, 32, 32, 8)         0         \n",
            "_________________________________________________________________\n",
            "conv2d_2 (Conv2D)            (None, 32, 32, 8)         576       \n",
            "_________________________________________________________________\n",
            "batch_normalization_8 (Batch (None, 32, 32, 8)         32        \n",
            "_________________________________________________________________\n",
            "leaky_re_lu_8 (LeakyReLU)    (None, 32, 32, 8)         0         \n",
            "_________________________________________________________________\n",
            "conv2d_3 (Conv2D)            (None, 16, 16, 16)        1152      \n",
            "_________________________________________________________________\n",
            "batch_normalization_9 (Batch (None, 16, 16, 16)        64        \n",
            "_________________________________________________________________\n",
            "leaky_re_lu_9 (LeakyReLU)    (None, 16, 16, 16)        0         \n",
            "_________________________________________________________________\n",
            "conv2d_4 (Conv2D)            (None, 16, 16, 16)        2304      \n",
            "_________________________________________________________________\n",
            "batch_normalization_10 (Batc (None, 16, 16, 16)        64        \n",
            "_________________________________________________________________\n",
            "leaky_re_lu_10 (LeakyReLU)   (None, 16, 16, 16)        0         \n",
            "_________________________________________________________________\n",
            "conv2d_5 (Conv2D)            (None, 8, 8, 32)          4608      \n",
            "_________________________________________________________________\n",
            "batch_normalization_11 (Batc (None, 8, 8, 32)          128       \n",
            "_________________________________________________________________\n",
            "leaky_re_lu_11 (LeakyReLU)   (None, 8, 8, 32)          0         \n",
            "_________________________________________________________________\n",
            "conv2d_6 (Conv2D)            (None, 8, 8, 32)          9216      \n",
            "_________________________________________________________________\n",
            "batch_normalization_12 (Batc (None, 8, 8, 32)          128       \n",
            "_________________________________________________________________\n",
            "leaky_re_lu_12 (LeakyReLU)   (None, 8, 8, 32)          0         \n",
            "_________________________________________________________________\n",
            "flatten (Flatten)            (None, 2048)              0         \n",
            "_________________________________________________________________\n",
            "dense (Dense)                (None, 1)                 2049      \n",
            "=================================================================\n",
            "Total params: 20,569\n",
            "Trainable params: 20,345\n",
            "Non-trainable params: 224\n",
            "_________________________________________________________________\n",
            "Sample output:  tf.Tensor(\n",
            "[[0.5000734 ]\n",
            " [0.5000111 ]\n",
            " [0.5000706 ]\n",
            " [0.5000086 ]\n",
            " [0.5001043 ]\n",
            " [0.500039  ]\n",
            " [0.50003916]\n",
            " [0.5000267 ]\n",
            " [0.49998116]\n",
            " [0.500008  ]\n",
            " [0.49997306]\n",
            " [0.5000156 ]\n",
            " [0.5000476 ]\n",
            " [0.50007534]\n",
            " [0.5000245 ]\n",
            " [0.49996328]\n",
            " [0.5000371 ]\n",
            " [0.50006586]\n",
            " [0.5000792 ]\n",
            " [0.5000059 ]\n",
            " [0.5000507 ]\n",
            " [0.500105  ]\n",
            " [0.50009954]\n",
            " [0.50001454]\n",
            " [0.5000217 ]\n",
            " [0.49999082]\n",
            " [0.50001645]\n",
            " [0.5000599 ]\n",
            " [0.4999801 ]\n",
            " [0.5000165 ]\n",
            " [0.49999988]\n",
            " [0.50011766]], shape=(32, 1), dtype=float32)\n"
          ],
          "name": "stdout"
        }
      ]
    },
    {
      "cell_type": "markdown",
      "metadata": {
        "id": "0FMYgY_mPfTi"
      },
      "source": [
        "## Define the loss and optimizers\n",
        "\n",
        "Define loss functions and optimizers for both models.\n"
      ]
    },
    {
      "cell_type": "code",
      "metadata": {
        "id": "psQfmXxYKU3X"
      },
      "source": [
        "# This method returns a helper function to compute cross entropy loss\n",
        "cross_entropy = tf.keras.losses.BinaryCrossentropy(from_logits=True)"
      ],
      "execution_count": 15,
      "outputs": []
    },
    {
      "cell_type": "markdown",
      "metadata": {
        "id": "PKY_iPSPNWoj"
      },
      "source": [
        "### Discriminator loss\n",
        "\n",
        "This method quantifies how well the discriminator is able to distinguish real images from fakes. It compares the discriminator's predictions on real images to an array of 1s, and the discriminator's predictions on fake (generated) images to an array of 0s."
      ]
    },
    {
      "cell_type": "code",
      "metadata": {
        "id": "wkMNfBWlT-PV"
      },
      "source": [
        "def discriminator_loss(real_output, fake_output):\n",
        "    real_loss = cross_entropy(tf.ones_like(real_output), real_output)\n",
        "    fake_loss = cross_entropy(tf.zeros_like(fake_output), fake_output)\n",
        "    total_loss = real_loss + fake_loss # Pending: Incorporate gradient penalty. Lambda gradient penalty factor.\n",
        "    return total_loss"
      ],
      "execution_count": 16,
      "outputs": []
    },
    {
      "cell_type": "markdown",
      "metadata": {
        "id": "Jd-3GCUEiKtv"
      },
      "source": [
        "### Generator loss\n",
        "The generator's loss quantifies how well it was able to trick the discriminator. Intuitively, if the generator is performing well, the discriminator will classify the fake images as real (or 1). Here, we will compare the discriminators decisions on the generated images to an array of 1s."
      ]
    },
    {
      "cell_type": "code",
      "metadata": {
        "id": "90BIcCKcDMxz"
      },
      "source": [
        "def generator_loss(fake_output):\n",
        "    return cross_entropy(tf.ones_like(fake_output), fake_output)"
      ],
      "execution_count": 17,
      "outputs": []
    },
    {
      "cell_type": "markdown",
      "metadata": {
        "id": "MgIc7i0th_Iu"
      },
      "source": [
        "The discriminator and the generator optimizers are different since we will train two networks separately."
      ]
    },
    {
      "cell_type": "code",
      "metadata": {
        "id": "iWCn_PVdEJZ7"
      },
      "source": [
        "#generator_optimizer = tf.keras.optimizers.Adam(learning_rate=2e-4, beta_1=0.0, beta_2=0.9)\n",
        "#discriminator_optimizer = tf.keras.optimizers.Adam(learning_rate=2e-4, beta_1=0.0, beta_2=0.9)\n",
        "\n",
        "generator_optimizer = tf.keras.optimizers.Adam(learning_rate=1e-5,beta_1=0.9,beta_2=0.999) #lr=1e-3\n",
        "discriminator_optimizer = tf.keras.optimizers.Adam(learning_rate=1e-5,beta_1=0.9,beta_2=0.999) #lr=1e-4"
      ],
      "execution_count": 18,
      "outputs": []
    },
    {
      "cell_type": "markdown",
      "metadata": {
        "id": "mWtinsGDPJlV"
      },
      "source": [
        "### Save checkpoints\n",
        "This notebook also demonstrates how to save and restore models, which can be helpful in case a long running training task is interrupted."
      ]
    },
    {
      "cell_type": "code",
      "metadata": {
        "id": "CA1w-7s2POEy"
      },
      "source": [
        "#checkpoint_dir = os.path.join(data_dir,'training_checkpoints')\n",
        "checkpoint_dir = './training_checkpoints'\n",
        "checkpoint_prefix = os.path.join(checkpoint_dir, \"ckpt\")\n",
        "checkpoint = tf.train.Checkpoint(generator_optimizer=generator_optimizer,\n",
        "                                 discriminator_optimizer=discriminator_optimizer,\n",
        "                                 generator=generator,\n",
        "                                 discriminator=discriminator)"
      ],
      "execution_count": 19,
      "outputs": []
    },
    {
      "cell_type": "markdown",
      "metadata": {
        "id": "Rw1fkAczTQYh"
      },
      "source": [
        "## Define the training loop\n"
      ]
    },
    {
      "cell_type": "code",
      "metadata": {
        "id": "NS2GWywBbAWo"
      },
      "source": [
        "EPOCHS = 2000\n",
        "noise_dim = 128\n",
        "num_examples_to_generate = 9\n",
        "\n",
        "# We will reuse this seed overtime (so it's easier)\n",
        "# to visualize progress in the animated GIF)\n",
        "#seed = tf.random.normal([num_examples_to_generate, noise_dim])\n",
        "seed = tf.random.uniform((num_examples_to_generate, IMG_HEIGHT//8, IMG_WIDTH//8, MAX_FILTERS),minval=-1,maxval=1)\n",
        "#seed = tf.random.normal((num_examples_to_generate, IMG_HEIGHT//8, IMG_WIDTH//8, MAX_FILTERS),stddev=0.5)\n",
        "#seed = tf.random.normal((num_examples_to_generate, IMG_HEIGHT//8, IMG_WIDTH//8, MAX_FILTERS))"
      ],
      "execution_count": 20,
      "outputs": []
    },
    {
      "cell_type": "markdown",
      "metadata": {
        "id": "jylSonrqSWfi"
      },
      "source": [
        "The training loop begins with generator receiving a random seed as input. That seed is used to produce an image. The discriminator is then used to classify real images (drawn from the training set) and fakes images (produced by the generator). The loss is calculated for each of these models, and the gradients are used to update the generator and discriminator."
      ]
    },
    {
      "cell_type": "code",
      "metadata": {
        "id": "3t5ibNo05jCB"
      },
      "source": [
        "# Notice the use of `tf.function`\n",
        "# This annotation causes the function to be \"compiled\".\n",
        "@tf.function\n",
        "def train_step(images):\n",
        "    #noise = tf.random.normal([BATCH_SIZE, noise_dim])\n",
        "    noise = tf.random.uniform((BATCH_SIZE, IMG_HEIGHT//8, IMG_WIDTH//8, MAX_FILTERS),minval=-1,maxval=1)\n",
        "    #noise = tf.random.normal((BATCH_SIZE, IMG_HEIGHT//8, IMG_WIDTH//8, MAX_FILTERS),stddev=0.5)\n",
        "    #noise = tf.random.normal((BATCH_SIZE, IMG_HEIGHT//8, IMG_WIDTH//8, MAX_FILTERS))\n",
        "\n",
        "    with tf.GradientTape() as gen_tape, tf.GradientTape() as disc_tape:\n",
        "      generated_images = generator(noise, training=True)\n",
        "\n",
        "      real_output = discriminator(images, training=True)\n",
        "      fake_output = discriminator(generated_images, training=True)\n",
        "\n",
        "      gen_loss = generator_loss(fake_output)\n",
        "      disc_loss = discriminator_loss(real_output, fake_output)\n",
        "\n",
        "    gradients_of_generator = gen_tape.gradient(gen_loss, generator.trainable_variables)\n",
        "    gradients_of_discriminator = disc_tape.gradient(disc_loss, discriminator.trainable_variables)\n",
        "\n",
        "    generator_optimizer.apply_gradients(zip(gradients_of_generator, generator.trainable_variables))\n",
        "    discriminator_optimizer.apply_gradients(zip(gradients_of_discriminator, discriminator.trainable_variables))\n",
        "\n",
        "    return gen_loss,disc_loss"
      ],
      "execution_count": 21,
      "outputs": []
    },
    {
      "cell_type": "code",
      "metadata": {
        "id": "2M7LmLtGEMQJ"
      },
      "source": [
        "history = []\n",
        "\n",
        "def train(dataset, epochs):\n",
        "  for epoch in range(epochs):\n",
        "    start = time.time()\n",
        "\n",
        "    for image_batch in dataset:\n",
        "      gen_loss, disc_loss = train_step(image_batch)\n",
        "\n",
        "    # Update the progress bar\n",
        "    history.append([gen_loss.numpy().mean(),disc_loss.numpy().mean()])\n",
        "\n",
        "    # Produce images for the GIF as we go\n",
        "    display.clear_output(wait=True)\n",
        "    generate_and_save_images(generator,\n",
        "                             epoch + 1,\n",
        "                             seed)\n",
        "    # Visualize Generator & Discriminator Loss\n",
        "    plotter(history,epoch)\n",
        "\n",
        "    # Save the model every 15 epochs\n",
        "    if (epoch + 1) % 15 == 0:\n",
        "      checkpoint.save(file_prefix = checkpoint_prefix)\n",
        "\n",
        "    print ('Time for epoch {} is {} sec'.format(epoch + 1, time.time()-start))\n",
        "\n",
        "  # Generate after the final epoch\n",
        "  display.clear_output(wait=True)\n",
        "  generate_and_save_images(generator,\n",
        "                           epochs,\n",
        "                           seed)\n",
        "  plotter(history,epoch)"
      ],
      "execution_count": 22,
      "outputs": []
    },
    {
      "cell_type": "markdown",
      "metadata": {
        "id": "5nuwFDVg0Fk2"
      },
      "source": [
        "**Train loss plotter**"
      ]
    },
    {
      "cell_type": "code",
      "metadata": {
        "id": "83CFrgNq0Emd"
      },
      "source": [
        "def plotter(history,epoch):\r\n",
        "\r\n",
        "  x=np.arange(len(history))\r\n",
        "  history=np.array(history)\r\n",
        "  gen_loss = history[:,0]\r\n",
        "  disc_loss = history[:,1]\r\n",
        "\r\n",
        "  plt.figure(figsize=(10, 4)) \r\n",
        "  plt.title('Generator & Discriminator Loss')\r\n",
        "  \r\n",
        "  plt.subplot(1, 2, 1)\r\n",
        "  plt.plot(x, gen_loss, label='Generator Loss')\r\n",
        "  plt.legend(loc='upper left')\r\n",
        "\r\n",
        "  plt.subplot(1, 2, 2)\r\n",
        "  plt.plot(x, disc_loss, label='Discriminator Loss')\r\n",
        "  plt.legend(loc='upper left')\r\n",
        "\r\n",
        "  plt.show()"
      ],
      "execution_count": 23,
      "outputs": []
    },
    {
      "cell_type": "markdown",
      "metadata": {
        "id": "2aFF7Hk3XdeW"
      },
      "source": [
        "**Generate and save images**\n"
      ]
    },
    {
      "cell_type": "code",
      "metadata": {
        "id": "RmdVsmvhPxyy"
      },
      "source": [
        "def generate_and_save_images(model, epoch, test_input):\n",
        "  # Notice `training` is set to False.\n",
        "  # This is so all layers run in inference mode (batchnorm).\n",
        "  predictions = model(test_input, training=False)\n",
        "\n",
        "  fig = plt.figure(figsize=(9,9))\n",
        "  for i in range(predictions.shape[0]):\n",
        "      plt.subplot(3, 3, i+1)\n",
        "      plt.imshow((predictions[i].numpy()*127.5+127.5).astype('int') )\n",
        "      plt.axis('off')\n",
        "\n",
        "  plt.savefig('image_at_epoch_{:04d}.png'.format(epoch))\n",
        "  plt.show()"
      ],
      "execution_count": 24,
      "outputs": []
    },
    {
      "cell_type": "markdown",
      "metadata": {
        "id": "dZrd4CdjR-Fp"
      },
      "source": [
        "## Train the model\n",
        "Call the `train()` method defined above to train the generator and discriminator simultaneously. Note, training GANs can be tricky. It's important that the generator and discriminator do not overpower each other (e.g., that they train at a similar rate).\n",
        "\n",
        "At the beginning of the training, the generated images look like random noise. As training progresses, the generated images will look increasingly real. After about n epochs, they resemble something real. "
      ]
    },
    {
      "cell_type": "code",
      "metadata": {
        "colab": {
          "base_uri": "https://localhost:8080/",
          "height": 786
        },
        "id": "Ly3UN0SLLY2l",
        "outputId": "9ae6a252-ae15-4e40-d209-5445a249ea04"
      },
      "source": [
        "train(train_dataset, EPOCHS)"
      ],
      "execution_count": null,
      "outputs": [
        {
          "output_type": "display_data",
          "data": {
            "image/png": "[encoded data removed]",
            "text/plain": [
              "<Figure size 648x648 with 9 Axes>"
            ]
          },
          "metadata": {
            "tags": [],
            "needs_background": "light"
          }
        },
        {
          "output_type": "display_data",
          "data": {
            "image/png": "[encoded data removed]",
            "text/plain": [
              "<Figure size 720x288 with 2 Axes>"
            ]
          },
          "metadata": {
            "tags": [],
            "needs_background": "light"
          }
        },
        {
          "output_type": "stream",
          "text": [
            "Time for epoch 376 is 15.249385356903076 sec\n"
          ],
          "name": "stdout"
        }
      ]
    },
    {
      "cell_type": "markdown",
      "metadata": {
        "id": "rfM4YcPVPkNO"
      },
      "source": [
        "Restore the latest checkpoint."
      ]
    },
    {
      "cell_type": "code",
      "metadata": {
        "id": "XhXsd0srPo8c"
      },
      "source": [
        "checkpoint.restore(tf.train.latest_checkpoint(checkpoint_dir))"
      ],
      "execution_count": null,
      "outputs": []
    },
    {
      "cell_type": "markdown",
      "metadata": {
        "id": "P4M_vIbUi7c0"
      },
      "source": [
        "## Create a GIF\n"
      ]
    },
    {
      "cell_type": "code",
      "metadata": {
        "id": "WfO5wCdclHGL"
      },
      "source": [
        "# Display a single image using the epoch number\n",
        "def display_image(epoch_no):\n",
        "  return PIL.Image.open('image_at_epoch_{:04d}.png'.format(epoch_no))"
      ],
      "execution_count": null,
      "outputs": []
    },
    {
      "cell_type": "code",
      "metadata": {
        "id": "5x3q9_Oe5q0A"
      },
      "source": [
        "display_image(EPOCHS)"
      ],
      "execution_count": null,
      "outputs": []
    },
    {
      "cell_type": "markdown",
      "metadata": {
        "id": "NywiH3nL8guF"
      },
      "source": [
        "Use `imageio` to create an animated gif using the images saved during training."
      ]
    },
    {
      "cell_type": "code",
      "metadata": {
        "id": "IGKQgENQ8lEI"
      },
      "source": [
        "anim_file = 'dcgan.gif'\n",
        "\n",
        "with imageio.get_writer(anim_file, mode='I') as writer:\n",
        "  filenames = glob.glob('image*.png')\n",
        "  filenames = sorted(filenames)\n",
        "  for filename in filenames:\n",
        "    image = imageio.imread(filename)\n",
        "    writer.append_data(image)\n",
        "  image = imageio.imread(filename)\n",
        "  writer.append_data(image)"
      ],
      "execution_count": null,
      "outputs": []
    },
    {
      "cell_type": "code",
      "metadata": {
        "id": "ZBwyU6t2Wf3g"
      },
      "source": [
        "import tensorflow_docs.vis.embed as embed\n",
        "embed.embed_file(anim_file)"
      ],
      "execution_count": null,
      "outputs": []
    },
    {
      "cell_type": "code",
      "metadata": {
        "id": "cF_pMualt4Gy"
      },
      "source": [
        ""
      ],
      "execution_count": null,
      "outputs": []
    }
  ]
}